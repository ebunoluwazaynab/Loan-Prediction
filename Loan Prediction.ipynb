{
 "cells": [
  {
   "cell_type": "markdown",
   "id": "2ebbfb11",
   "metadata": {},
   "source": [
    "### Steps\n",
    "* Exploratory Data Analysis\n",
    "* Cleaning and Preprocessing\n",
    "* Feature Engineering\n",
    "* Model Building"
   ]
  },
  {
   "cell_type": "code",
   "execution_count": 63,
   "id": "3b06151d",
   "metadata": {},
   "outputs": [],
   "source": [
    "# import libraries\n",
    "\n",
    "# For loading Packages\n",
    "import pandas as pd\n",
    "pd.set_option('max_columns', None)\n",
    "pd.set_option('max_rows', 100)\n",
    "\n",
    "# For mathematical calculations\n",
    "import numpy as np\n",
    "\n",
    "# For data visualization\n",
    "import matplotlib.pyplot as plt\n",
    "import seaborn as sns\n",
    "\n",
    "# To build and evaluate model\n",
    "from sklearn.model_selection import GridSearchCV\n",
    "from sklearn.ensemble import RandomForestClassifier\n",
    "from sklearn.metrics import mean_absolute_error, accuracy_score\n",
    "from sklearn.model_selection import train_test_split, cross_val_score\n",
    "\n",
    "# To ignore any warnings\n",
    "import warnings\n",
    "warnings.filterwarnings(\"ignore\")"
   ]
  },
  {
   "cell_type": "code",
   "execution_count": 2,
   "id": "2efb3381",
   "metadata": {},
   "outputs": [],
   "source": [
    "# store data in dataframe\n",
    "train_data = pd.read_csv(\"train_loan_prediction.csv\")\n",
    "test_data = pd.read_csv(\"test_loan_prediction.csv\")"
   ]
  },
  {
   "cell_type": "code",
   "execution_count": 3,
   "id": "db5b2490",
   "metadata": {},
   "outputs": [
    {
     "data": {
      "text/html": [
       "<div>\n",
       "<style scoped>\n",
       "    .dataframe tbody tr th:only-of-type {\n",
       "        vertical-align: middle;\n",
       "    }\n",
       "\n",
       "    .dataframe tbody tr th {\n",
       "        vertical-align: top;\n",
       "    }\n",
       "\n",
       "    .dataframe thead th {\n",
       "        text-align: right;\n",
       "    }\n",
       "</style>\n",
       "<table border=\"1\" class=\"dataframe\">\n",
       "  <thead>\n",
       "    <tr style=\"text-align: right;\">\n",
       "      <th></th>\n",
       "      <th>Loan_ID</th>\n",
       "      <th>Gender</th>\n",
       "      <th>Married</th>\n",
       "      <th>Dependents</th>\n",
       "      <th>Education</th>\n",
       "      <th>Self_Employed</th>\n",
       "      <th>ApplicantIncome</th>\n",
       "      <th>CoapplicantIncome</th>\n",
       "      <th>LoanAmount</th>\n",
       "      <th>Loan_Amount_Term</th>\n",
       "      <th>Credit_History</th>\n",
       "      <th>Property_Area</th>\n",
       "      <th>Loan_Status</th>\n",
       "    </tr>\n",
       "  </thead>\n",
       "  <tbody>\n",
       "    <tr>\n",
       "      <th>0</th>\n",
       "      <td>LP001002</td>\n",
       "      <td>Male</td>\n",
       "      <td>No</td>\n",
       "      <td>0</td>\n",
       "      <td>Graduate</td>\n",
       "      <td>No</td>\n",
       "      <td>5849</td>\n",
       "      <td>0.0</td>\n",
       "      <td>NaN</td>\n",
       "      <td>360.0</td>\n",
       "      <td>1.0</td>\n",
       "      <td>Urban</td>\n",
       "      <td>Y</td>\n",
       "    </tr>\n",
       "    <tr>\n",
       "      <th>1</th>\n",
       "      <td>LP001003</td>\n",
       "      <td>Male</td>\n",
       "      <td>Yes</td>\n",
       "      <td>1</td>\n",
       "      <td>Graduate</td>\n",
       "      <td>No</td>\n",
       "      <td>4583</td>\n",
       "      <td>1508.0</td>\n",
       "      <td>128.0</td>\n",
       "      <td>360.0</td>\n",
       "      <td>1.0</td>\n",
       "      <td>Rural</td>\n",
       "      <td>N</td>\n",
       "    </tr>\n",
       "    <tr>\n",
       "      <th>2</th>\n",
       "      <td>LP001005</td>\n",
       "      <td>Male</td>\n",
       "      <td>Yes</td>\n",
       "      <td>0</td>\n",
       "      <td>Graduate</td>\n",
       "      <td>Yes</td>\n",
       "      <td>3000</td>\n",
       "      <td>0.0</td>\n",
       "      <td>66.0</td>\n",
       "      <td>360.0</td>\n",
       "      <td>1.0</td>\n",
       "      <td>Urban</td>\n",
       "      <td>Y</td>\n",
       "    </tr>\n",
       "    <tr>\n",
       "      <th>3</th>\n",
       "      <td>LP001006</td>\n",
       "      <td>Male</td>\n",
       "      <td>Yes</td>\n",
       "      <td>0</td>\n",
       "      <td>Not Graduate</td>\n",
       "      <td>No</td>\n",
       "      <td>2583</td>\n",
       "      <td>2358.0</td>\n",
       "      <td>120.0</td>\n",
       "      <td>360.0</td>\n",
       "      <td>1.0</td>\n",
       "      <td>Urban</td>\n",
       "      <td>Y</td>\n",
       "    </tr>\n",
       "    <tr>\n",
       "      <th>4</th>\n",
       "      <td>LP001008</td>\n",
       "      <td>Male</td>\n",
       "      <td>No</td>\n",
       "      <td>0</td>\n",
       "      <td>Graduate</td>\n",
       "      <td>No</td>\n",
       "      <td>6000</td>\n",
       "      <td>0.0</td>\n",
       "      <td>141.0</td>\n",
       "      <td>360.0</td>\n",
       "      <td>1.0</td>\n",
       "      <td>Urban</td>\n",
       "      <td>Y</td>\n",
       "    </tr>\n",
       "  </tbody>\n",
       "</table>\n",
       "</div>"
      ],
      "text/plain": [
       "    Loan_ID Gender Married Dependents     Education Self_Employed  \\\n",
       "0  LP001002   Male      No          0      Graduate            No   \n",
       "1  LP001003   Male     Yes          1      Graduate            No   \n",
       "2  LP001005   Male     Yes          0      Graduate           Yes   \n",
       "3  LP001006   Male     Yes          0  Not Graduate            No   \n",
       "4  LP001008   Male      No          0      Graduate            No   \n",
       "\n",
       "   ApplicantIncome  CoapplicantIncome  LoanAmount  Loan_Amount_Term  \\\n",
       "0             5849                0.0         NaN             360.0   \n",
       "1             4583             1508.0       128.0             360.0   \n",
       "2             3000                0.0        66.0             360.0   \n",
       "3             2583             2358.0       120.0             360.0   \n",
       "4             6000                0.0       141.0             360.0   \n",
       "\n",
       "   Credit_History Property_Area Loan_Status  \n",
       "0             1.0         Urban           Y  \n",
       "1             1.0         Rural           N  \n",
       "2             1.0         Urban           Y  \n",
       "3             1.0         Urban           Y  \n",
       "4             1.0         Urban           Y  "
      ]
     },
     "execution_count": 3,
     "metadata": {},
     "output_type": "execute_result"
    }
   ],
   "source": [
    "# view first 5 rows of the train data\n",
    "train_data.head()"
   ]
  },
  {
   "cell_type": "code",
   "execution_count": 4,
   "id": "a43de048",
   "metadata": {},
   "outputs": [
    {
     "data": {
      "text/html": [
       "<div>\n",
       "<style scoped>\n",
       "    .dataframe tbody tr th:only-of-type {\n",
       "        vertical-align: middle;\n",
       "    }\n",
       "\n",
       "    .dataframe tbody tr th {\n",
       "        vertical-align: top;\n",
       "    }\n",
       "\n",
       "    .dataframe thead th {\n",
       "        text-align: right;\n",
       "    }\n",
       "</style>\n",
       "<table border=\"1\" class=\"dataframe\">\n",
       "  <thead>\n",
       "    <tr style=\"text-align: right;\">\n",
       "      <th></th>\n",
       "      <th>Loan_ID</th>\n",
       "      <th>Gender</th>\n",
       "      <th>Married</th>\n",
       "      <th>Dependents</th>\n",
       "      <th>Education</th>\n",
       "      <th>Self_Employed</th>\n",
       "      <th>ApplicantIncome</th>\n",
       "      <th>CoapplicantIncome</th>\n",
       "      <th>LoanAmount</th>\n",
       "      <th>Loan_Amount_Term</th>\n",
       "      <th>Credit_History</th>\n",
       "      <th>Property_Area</th>\n",
       "    </tr>\n",
       "  </thead>\n",
       "  <tbody>\n",
       "    <tr>\n",
       "      <th>0</th>\n",
       "      <td>LP001015</td>\n",
       "      <td>Male</td>\n",
       "      <td>Yes</td>\n",
       "      <td>0</td>\n",
       "      <td>Graduate</td>\n",
       "      <td>No</td>\n",
       "      <td>5720</td>\n",
       "      <td>0</td>\n",
       "      <td>110.0</td>\n",
       "      <td>360.0</td>\n",
       "      <td>1.0</td>\n",
       "      <td>Urban</td>\n",
       "    </tr>\n",
       "    <tr>\n",
       "      <th>1</th>\n",
       "      <td>LP001022</td>\n",
       "      <td>Male</td>\n",
       "      <td>Yes</td>\n",
       "      <td>1</td>\n",
       "      <td>Graduate</td>\n",
       "      <td>No</td>\n",
       "      <td>3076</td>\n",
       "      <td>1500</td>\n",
       "      <td>126.0</td>\n",
       "      <td>360.0</td>\n",
       "      <td>1.0</td>\n",
       "      <td>Urban</td>\n",
       "    </tr>\n",
       "    <tr>\n",
       "      <th>2</th>\n",
       "      <td>LP001031</td>\n",
       "      <td>Male</td>\n",
       "      <td>Yes</td>\n",
       "      <td>2</td>\n",
       "      <td>Graduate</td>\n",
       "      <td>No</td>\n",
       "      <td>5000</td>\n",
       "      <td>1800</td>\n",
       "      <td>208.0</td>\n",
       "      <td>360.0</td>\n",
       "      <td>1.0</td>\n",
       "      <td>Urban</td>\n",
       "    </tr>\n",
       "    <tr>\n",
       "      <th>3</th>\n",
       "      <td>LP001035</td>\n",
       "      <td>Male</td>\n",
       "      <td>Yes</td>\n",
       "      <td>2</td>\n",
       "      <td>Graduate</td>\n",
       "      <td>No</td>\n",
       "      <td>2340</td>\n",
       "      <td>2546</td>\n",
       "      <td>100.0</td>\n",
       "      <td>360.0</td>\n",
       "      <td>NaN</td>\n",
       "      <td>Urban</td>\n",
       "    </tr>\n",
       "    <tr>\n",
       "      <th>4</th>\n",
       "      <td>LP001051</td>\n",
       "      <td>Male</td>\n",
       "      <td>No</td>\n",
       "      <td>0</td>\n",
       "      <td>Not Graduate</td>\n",
       "      <td>No</td>\n",
       "      <td>3276</td>\n",
       "      <td>0</td>\n",
       "      <td>78.0</td>\n",
       "      <td>360.0</td>\n",
       "      <td>1.0</td>\n",
       "      <td>Urban</td>\n",
       "    </tr>\n",
       "  </tbody>\n",
       "</table>\n",
       "</div>"
      ],
      "text/plain": [
       "    Loan_ID Gender Married Dependents     Education Self_Employed  \\\n",
       "0  LP001015   Male     Yes          0      Graduate            No   \n",
       "1  LP001022   Male     Yes          1      Graduate            No   \n",
       "2  LP001031   Male     Yes          2      Graduate            No   \n",
       "3  LP001035   Male     Yes          2      Graduate            No   \n",
       "4  LP001051   Male      No          0  Not Graduate            No   \n",
       "\n",
       "   ApplicantIncome  CoapplicantIncome  LoanAmount  Loan_Amount_Term  \\\n",
       "0             5720                  0       110.0             360.0   \n",
       "1             3076               1500       126.0             360.0   \n",
       "2             5000               1800       208.0             360.0   \n",
       "3             2340               2546       100.0             360.0   \n",
       "4             3276                  0        78.0             360.0   \n",
       "\n",
       "   Credit_History Property_Area  \n",
       "0             1.0         Urban  \n",
       "1             1.0         Urban  \n",
       "2             1.0         Urban  \n",
       "3             NaN         Urban  \n",
       "4             1.0         Urban  "
      ]
     },
     "execution_count": 4,
     "metadata": {},
     "output_type": "execute_result"
    }
   ],
   "source": [
    "# view first 5 rows of the test data\n",
    "test_data.head()"
   ]
  },
  {
   "cell_type": "markdown",
   "id": "e73fab30",
   "metadata": {},
   "source": [
    "#### Exploartory Data Analysis"
   ]
  },
  {
   "cell_type": "code",
   "execution_count": 5,
   "id": "832a225e",
   "metadata": {},
   "outputs": [
    {
     "data": {
      "text/plain": [
       "(614, 13)"
      ]
     },
     "execution_count": 5,
     "metadata": {},
     "output_type": "execute_result"
    }
   ],
   "source": [
    "# print shape of the train dataset\n",
    "train_data.shape"
   ]
  },
  {
   "cell_type": "code",
   "execution_count": 6,
   "id": "433ef7b5",
   "metadata": {},
   "outputs": [
    {
     "name": "stdout",
     "output_type": "stream",
     "text": [
      "<class 'pandas.core.frame.DataFrame'>\n",
      "RangeIndex: 614 entries, 0 to 613\n",
      "Data columns (total 13 columns):\n",
      " #   Column             Non-Null Count  Dtype  \n",
      "---  ------             --------------  -----  \n",
      " 0   Loan_ID            614 non-null    object \n",
      " 1   Gender             601 non-null    object \n",
      " 2   Married            611 non-null    object \n",
      " 3   Dependents         599 non-null    object \n",
      " 4   Education          614 non-null    object \n",
      " 5   Self_Employed      582 non-null    object \n",
      " 6   ApplicantIncome    614 non-null    int64  \n",
      " 7   CoapplicantIncome  614 non-null    float64\n",
      " 8   LoanAmount         592 non-null    float64\n",
      " 9   Loan_Amount_Term   600 non-null    float64\n",
      " 10  Credit_History     564 non-null    float64\n",
      " 11  Property_Area      614 non-null    object \n",
      " 12  Loan_Status        614 non-null    object \n",
      "dtypes: float64(4), int64(1), object(8)\n",
      "memory usage: 62.5+ KB\n"
     ]
    }
   ],
   "source": [
    "train_data.info()"
   ]
  },
  {
   "cell_type": "markdown",
   "id": "01c6e5a6",
   "metadata": {},
   "source": [
    "##### Univariate Analysis"
   ]
  },
  {
   "cell_type": "code",
   "execution_count": 7,
   "id": "cba4ac14",
   "metadata": {},
   "outputs": [
    {
     "data": {
      "text/plain": [
       "<AxesSubplot:title={'center':'Loan Status'}>"
      ]
     },
     "execution_count": 7,
     "metadata": {},
     "output_type": "execute_result"
    },
    {
     "data": {
      "image/png": "[encoded data removed]",
      "text/plain": [
       "<Figure size 432x288 with 1 Axes>"
      ]
     },
     "metadata": {
      "needs_background": "light"
     },
     "output_type": "display_data"
    }
   ],
   "source": [
    "# Visualize Target Variable (i.e Loan status)\n",
    "train_data['Loan_Status'].value_counts(normalize = True).plot.bar(title = \"Loan Status\")"
   ]
  },
  {
   "cell_type": "markdown",
   "id": "7c36fcc7",
   "metadata": {},
   "source": [
    "It can be inferred from the bar plot that 60% of the train set were granted loan and 30% were not"
   ]
  },
  {
   "cell_type": "code",
   "execution_count": 8,
   "id": "54074522",
   "metadata": {
    "scrolled": true
   },
   "outputs": [
    {
     "data": {
      "text/plain": [
       "<AxesSubplot:title={'center':'Credit_History'}>"
      ]
     },
     "execution_count": 8,
     "metadata": {},
     "output_type": "execute_result"
    },
    {
     "data": {
      "image/png": "[encoded data removed]",
      "text/plain": [
       "<Figure size 1440x720 with 4 Axes>"
      ]
     },
     "metadata": {
      "needs_background": "light"
     },
     "output_type": "display_data"
    }
   ],
   "source": [
    "# Visualize independent categorical features\n",
    "plt.figure(1) \n",
    "plt.subplot(221)\n",
    "train_data['Gender'].value_counts(normalize = True).plot.bar(figsize = (20, 10), title = 'Gender')\n",
    "plt.subplot(222)\n",
    "train_data['Married'].value_counts(normalize = True).plot.bar(title = 'Married')\n",
    "plt.subplot(223)\n",
    "train_data['Self_Employed'].value_counts(normalize = True).plot.bar(title = 'Self_Employed')\n",
    "plt.subplot(224)\n",
    "train_data['Credit_History'].value_counts(normalize = True).plot.bar(title = 'Credit_History')"
   ]
  },
  {
   "cell_type": "markdown",
   "id": "4819d348",
   "metadata": {},
   "source": [
    "It can be inferred from the above bar plots that:\n",
    "* 80% of the applicants of train dataset are male\n",
    "* About 65% of the applicants are married\n",
    "* About 15% of the applicants in the train dataset are self-employed\n",
    "* About 85% of the applicants in the train dataset have repaid their debts"
   ]
  },
  {
   "cell_type": "code",
   "execution_count": 9,
   "id": "a7e99cdf",
   "metadata": {},
   "outputs": [
    {
     "data": {
      "text/plain": [
       "<AxesSubplot:title={'center':'Property_Area'}>"
      ]
     },
     "execution_count": 9,
     "metadata": {},
     "output_type": "execute_result"
    },
    {
     "data": {
      "image/png": "[encoded data removed]",
      "text/plain": [
       "<Figure size 1728x432 with 3 Axes>"
      ]
     },
     "metadata": {
      "needs_background": "light"
     },
     "output_type": "display_data"
    }
   ],
   "source": [
    "# Visualize independent ordinal features\n",
    "plt.figure(1) \n",
    "plt.subplot(131)\n",
    "train_data['Dependents'].value_counts(normalize = True).plot.bar(figsize = (24, 6), title = 'Dependents')\n",
    "plt.subplot(132)\n",
    "train_data['Education'].value_counts(normalize = True).plot.bar(title = 'Education')\n",
    "plt.subplot(133)\n",
    "train_data['Property_Area'].value_counts(normalize = True).plot.bar(title = 'Property_Area')"
   ]
  },
  {
   "cell_type": "markdown",
   "id": "e29245a9",
   "metadata": {},
   "source": [
    "It can be inferred from the bar plot above that:\n",
    "* Most of the applicants in the train dataset don't have any dependents\n",
    "* About 78% of the applicants in the train dataset are graduates\n",
    "* Most applicants in the train dataset are from the Semiurban area"
   ]
  },
  {
   "cell_type": "code",
   "execution_count": 10,
   "id": "85e81e6d",
   "metadata": {},
   "outputs": [
    {
     "data": {
      "image/png": "[encoded data removed]",
      "text/plain": [
       "<Figure size 1152x360 with 2 Axes>"
      ]
     },
     "metadata": {
      "needs_background": "light"
     },
     "output_type": "display_data"
    }
   ],
   "source": [
    "# Visualize independent numerical features distribution (ApplicantIncome)\n",
    "plt.figure(1)\n",
    "plt.subplot(121)\n",
    "sns.distplot(train_data['ApplicantIncome']);\n",
    "plt.subplot(122)\n",
    "train_data['ApplicantIncome'].plot.box(figsize = (16, 5));\n",
    "plt.show()"
   ]
  },
  {
   "cell_type": "markdown",
   "id": "734d3f01",
   "metadata": {},
   "source": [
    "It can be seen from the distplot plot above that the ApplicantIncome column is left skewed and the boxplot confirms the presence of a lot of outliers"
   ]
  },
  {
   "cell_type": "code",
   "execution_count": 11,
   "id": "375ef797",
   "metadata": {},
   "outputs": [
    {
     "data": {
      "text/plain": [
       "Text(0.5, 0.98, '')"
      ]
     },
     "execution_count": 11,
     "metadata": {},
     "output_type": "execute_result"
    },
    {
     "data": {
      "image/png": "[encoded data removed]",
      "text/plain": [
       "<Figure size 432x288 with 1 Axes>"
      ]
     },
     "metadata": {
      "needs_background": "light"
     },
     "output_type": "display_data"
    }
   ],
   "source": [
    "# Segregate ApplicantIncome by Education\n",
    "train_data.boxplot(column = 'ApplicantIncome', by = 'Education')\n",
    "plt.suptitle(\"\")"
   ]
  },
  {
   "cell_type": "markdown",
   "id": "39bb6bac",
   "metadata": {},
   "source": [
    "It can be seen that there are a higher number of graduates with very high incomes, which are the outliers."
   ]
  },
  {
   "cell_type": "code",
   "execution_count": 12,
   "id": "f814731b",
   "metadata": {},
   "outputs": [
    {
     "data": {
      "image/png": "[encoded data removed]",
      "text/plain": [
       "<Figure size 1152x360 with 2 Axes>"
      ]
     },
     "metadata": {
      "needs_background": "light"
     },
     "output_type": "display_data"
    }
   ],
   "source": [
    "# Visualize independent numerical features distribution (CoapplicantIncome)\n",
    "plt.figure(1)\n",
    "plt.subplot(121)\n",
    "sns.distplot(train_data['CoapplicantIncome']);\n",
    "plt.subplot(122)\n",
    "train_data['CoapplicantIncome'].plot.box(figsize = (16, 5));\n",
    "plt.show()"
   ]
  },
  {
   "cell_type": "markdown",
   "id": "4807ac85",
   "metadata": {},
   "source": [
    "It can be seen that the CoapplicantIncome column is also left skewed and the boxplot also the confirms presence of outliers"
   ]
  },
  {
   "cell_type": "code",
   "execution_count": 13,
   "id": "e42dae20",
   "metadata": {},
   "outputs": [
    {
     "data": {
      "image/png": "[encoded data removed]",
      "text/plain": [
       "<Figure size 1152x360 with 2 Axes>"
      ]
     },
     "metadata": {
      "needs_background": "light"
     },
     "output_type": "display_data"
    }
   ],
   "source": [
    "# Visualize independent numerical features distribution (LoanAmount)\n",
    "plt.figure(1)\n",
    "plt.subplot(121)\n",
    "sns.distplot(train_data['LoanAmount']);\n",
    "plt.subplot(122)\n",
    "train_data['LoanAmount'].plot.box(figsize = (16, 5));\n",
    "plt.show()"
   ]
  },
  {
   "cell_type": "markdown",
   "id": "1485958a",
   "metadata": {},
   "source": [
    "The distribution of LoanAmount is fairly normal but there the variable has a lot of outliers. "
   ]
  },
  {
   "cell_type": "markdown",
   "id": "a39609e3",
   "metadata": {},
   "source": [
    "##### Bivariate Analysis"
   ]
  },
  {
   "cell_type": "code",
   "execution_count": 14,
   "id": "4369c963",
   "metadata": {},
   "outputs": [
    {
     "data": {
      "image/png": "[encoded data removed]",
      "text/plain": [
       "<Figure size 288x288 with 1 Axes>"
      ]
     },
     "metadata": {
      "needs_background": "light"
     },
     "output_type": "display_data"
    },
    {
     "data": {
      "image/png": "[encoded data removed]",
      "text/plain": [
       "<Figure size 288x288 with 1 Axes>"
      ]
     },
     "metadata": {
      "needs_background": "light"
     },
     "output_type": "display_data"
    },
    {
     "data": {
      "image/png": "[encoded data removed]",
      "text/plain": [
       "<Figure size 504x288 with 1 Axes>"
      ]
     },
     "metadata": {
      "needs_background": "light"
     },
     "output_type": "display_data"
    },
    {
     "data": {
      "image/png": "[encoded data removed]",
      "text/plain": [
       "<Figure size 288x288 with 1 Axes>"
      ]
     },
     "metadata": {
      "needs_background": "light"
     },
     "output_type": "display_data"
    },
    {
     "data": {
      "image/png": "[encoded data removed]",
      "text/plain": [
       "<Figure size 288x288 with 1 Axes>"
      ]
     },
     "metadata": {
      "needs_background": "light"
     },
     "output_type": "display_data"
    }
   ],
   "source": [
    "# Categorical Independent varible vs target variable\n",
    "Gender = pd.crosstab(train_data[\"Gender\"], train_data[\"Loan_Status\"])\n",
    "Married = pd.crosstab(train_data[\"Married\"], train_data[\"Loan_Status\"])\n",
    "Dependents = pd.crosstab(train_data[\"Dependents\"], train_data[\"Loan_Status\"])\n",
    "Education = pd.crosstab(train_data[\"Education\"], train_data[\"Loan_Status\"])\n",
    "Self_Employed = pd.crosstab(train_data[\"Self_Employed\"], train_data[\"Loan_Status\"])\n",
    "\n",
    "Gender.div(Gender.sum(1).astype(float), axis = 0).plot(kind = \"bar\", stacked = True, figsize = (4, 4))\n",
    "plt.show()\n",
    "Married.div(Married.sum(1).astype(float), axis = 0).plot(kind = \"bar\", stacked = True, figsize = (4, 4))\n",
    "plt.show()\n",
    "Dependents.div(Dependents.sum(1).astype(float), axis = 0).plot(kind = \"bar\", stacked = True, figsize = (7, 4))\n",
    "plt.show()\n",
    "Education.div(Education.sum(1).astype(float), axis = 0).plot(kind = \"bar\", stacked = True, figsize = (4, 4))\n",
    "plt.show()\n",
    "Self_Employed.div(Self_Employed.sum(1).astype(float), axis = 0).plot(kind = \"bar\", stacked = True, figsize = (4, 4))\n",
    "plt.show()"
   ]
  },
  {
   "cell_type": "markdown",
   "id": "f6ad4f76",
   "metadata": {},
   "source": [
    "It can be inferred that:\n",
    "* the population of male and female that were granted loan in the train dataset are fairly the same\n",
    "* the proportion of married applicants that were granted loan in the train dataset is more than that of the unmarried applicants\n",
    "* the distribution of applicants with 1 or 3+ dependents is similar across both categories of Loan_Status\n",
    "* the proportion of graduate applicants that were granted loan in the train dataset is more than that of the not graduate applicants\n",
    "* there is no difference in the proportion of self-employed applicants granted loan in the train dataset is the same as that of those that are not self-employed"
   ]
  },
  {
   "cell_type": "code",
   "execution_count": 15,
   "id": "462685eb",
   "metadata": {},
   "outputs": [
    {
     "data": {
      "image/png": "[encoded data removed]",
      "text/plain": [
       "<Figure size 288x288 with 1 Axes>"
      ]
     },
     "metadata": {
      "needs_background": "light"
     },
     "output_type": "display_data"
    },
    {
     "data": {
      "image/png": "[encoded data removed]",
      "text/plain": [
       "<Figure size 288x288 with 1 Axes>"
      ]
     },
     "metadata": {
      "needs_background": "light"
     },
     "output_type": "display_data"
    }
   ],
   "source": [
    "# Categorical Independent varible vs target variable\n",
    "Credit_History = pd.crosstab(train_data[\"Credit_History\"], train_data[\"Loan_Status\"])\n",
    "Property_Area = pd.crosstab(train_data[\"Property_Area\"], train_data[\"Loan_Status\"])\n",
    "\n",
    "Credit_History.div(Credit_History.sum(1).astype(float), axis = 0).plot(kind = \"bar\", stacked = True, figsize = (4, 4))\n",
    "plt.show()\n",
    "Property_Area.div(Property_Area.sum(1).astype(float), axis = 0).plot(kind = \"bar\", stacked = True, figsize = (4, 4))\n",
    "plt.show()"
   ]
  },
  {
   "cell_type": "markdown",
   "id": "15dd3789",
   "metadata": {},
   "source": [
    "It can be inferred from the plot that:\n",
    "* the applicants with credit history as 1 are more likely to be granted loans\n",
    "* the proportion of loans approved in semiurban areas is higher compared to that in rural and urban areas"
   ]
  },
  {
   "cell_type": "code",
   "execution_count": 16,
   "id": "3fe3a140",
   "metadata": {},
   "outputs": [
    {
     "data": {
      "text/plain": [
       "<AxesSubplot:xlabel='Loan_Status'>"
      ]
     },
     "execution_count": 16,
     "metadata": {},
     "output_type": "execute_result"
    },
    {
     "data": {
      "image/png": "[encoded data removed]",
      "text/plain": [
       "<Figure size 432x288 with 1 Axes>"
      ]
     },
     "metadata": {
      "needs_background": "light"
     },
     "output_type": "display_data"
    }
   ],
   "source": [
    "# ApplicantIncome vs Loan Status\n",
    "train_data.groupby('Loan_Status')['ApplicantIncome'].mean().plot.bar()"
   ]
  },
  {
   "cell_type": "code",
   "execution_count": 17,
   "id": "7765e103",
   "metadata": {},
   "outputs": [
    {
     "data": {
      "text/plain": [
       "Text(0, 0.5, 'Percentage')"
      ]
     },
     "execution_count": 17,
     "metadata": {},
     "output_type": "execute_result"
    },
    {
     "data": {
      "image/png": "[encoded data removed]",
      "text/plain": [
       "<Figure size 432x288 with 1 Axes>"
      ]
     },
     "metadata": {
      "needs_background": "light"
     },
     "output_type": "display_data"
    }
   ],
   "source": [
    "train_data['ApplicantIncome_cat'] = pd.cut(train_data['ApplicantIncome'], bins = [-1, 2500, 4000, 6000, 100000], labels = ['Low', 'Average', 'High', 'Very high'])\n",
    "Income_cat = pd.crosstab(train_data['ApplicantIncome_cat'], train_data['Loan_Status'])\n",
    "Income_cat.div(Income_cat.sum(1).astype(float), axis = 0).plot(kind = \"bar\", stacked = True)\n",
    "plt.xlabel('ApplicantIncome_cat')\n",
    "plt.ylabel('Percentage')"
   ]
  },
  {
   "cell_type": "markdown",
   "id": "8e7da887",
   "metadata": {},
   "source": [
    "It can be inferred from plot above that ApplicantIncome does not really have an effect on Loan Status"
   ]
  },
  {
   "cell_type": "code",
   "execution_count": 18,
   "id": "353783ee",
   "metadata": {},
   "outputs": [
    {
     "data": {
      "text/plain": [
       "Text(0, 0.5, 'Percentage')"
      ]
     },
     "execution_count": 18,
     "metadata": {},
     "output_type": "execute_result"
    },
    {
     "data": {
      "image/png": "[encoded data removed]",
      "text/plain": [
       "<Figure size 432x288 with 1 Axes>"
      ]
     },
     "metadata": {
      "needs_background": "light"
     },
     "output_type": "display_data"
    }
   ],
   "source": [
    "train_data['Coapplicant_Income_cat'] = pd.cut(train_data['CoapplicantIncome'], bins = [-1, 1000, 3000, 100000], labels = ['Low', 'Average', 'High'])\n",
    "Coapplicant_Income_bin = pd.crosstab(train_data['Coapplicant_Income_cat'], train_data['Loan_Status'])\n",
    "Coapplicant_Income_bin.div(Coapplicant_Income_bin.sum(1).astype(float), axis = 0).plot(kind = \"bar\", stacked = True)\n",
    "plt.xlabel('CoapplicantIncome_cat')\n",
    "plt.ylabel('Percentage')"
   ]
  },
  {
   "cell_type": "markdown",
   "id": "7d5eb444",
   "metadata": {},
   "source": [
    "From the plot it looks like average income applicants have lower chances of loan approval"
   ]
  },
  {
   "cell_type": "code",
   "execution_count": 19,
   "id": "dd0f8157",
   "metadata": {},
   "outputs": [
    {
     "data": {
      "text/plain": [
       "Text(0, 0.5, 'Percentage')"
      ]
     },
     "execution_count": 19,
     "metadata": {},
     "output_type": "execute_result"
    },
    {
     "data": {
      "image/png": "[encoded data removed]",
      "text/plain": [
       "<Figure size 432x288 with 1 Axes>"
      ]
     },
     "metadata": {
      "needs_background": "light"
     },
     "output_type": "display_data"
    }
   ],
   "source": [
    "# Combine the Applicant Income and Coapplicant Income and see the combined effect of Total Income on the Loan Status\n",
    "train_data['Total_Income'] = train_data['ApplicantIncome'] + train_data['CoapplicantIncome']\n",
    "train_data['Total_Income_bin'] = pd.cut(train_data['Total_Income'], bins = [-1, 2500, 6000, 100000], labels = ['Low', 'Average', 'High'])\n",
    "\n",
    "Total_Income_bin = pd.crosstab(train_data['Total_Income_bin'], train_data['Loan_Status'])\n",
    "Total_Income_bin.div(Total_Income_bin.sum(1).astype(float), axis = 0).plot(kind = \"bar\", stacked = True)\n",
    "plt.xlabel(\"Total_Income\")\n",
    "plt.ylabel(\"Percentage\")"
   ]
  },
  {
   "cell_type": "markdown",
   "id": "23c96be6",
   "metadata": {},
   "source": [
    "From the plot above it can be inferred that the average and higher income applicant have a higher chance of Loan Approval"
   ]
  },
  {
   "cell_type": "code",
   "execution_count": 20,
   "id": "6aed8f23",
   "metadata": {},
   "outputs": [
    {
     "data": {
      "text/plain": [
       "Text(0, 0.5, 'Percentage')"
      ]
     },
     "execution_count": 20,
     "metadata": {},
     "output_type": "execute_result"
    },
    {
     "data": {
      "image/png": "[encoded data removed]",
      "text/plain": [
       "<Figure size 432x288 with 1 Axes>"
      ]
     },
     "metadata": {
      "needs_background": "light"
     },
     "output_type": "display_data"
    }
   ],
   "source": [
    "train_data['LoanAmount_cat'] = pd.cut(train_data['LoanAmount'], bins = [0, 100, 200, 1000], labels = ['Low', 'Average', 'High'])\n",
    "LoanAmount_bin = pd.crosstab(train_data['LoanAmount_cat'], train_data['Loan_Status'])\n",
    "LoanAmount_bin.div(LoanAmount_bin.sum(1).astype(float), axis = 0).plot(kind = \"bar\", stacked = True)\n",
    "plt.xlabel('LoanAmount_cat')\n",
    "plt.ylabel('Percentage')"
   ]
  },
  {
   "cell_type": "markdown",
   "id": "a8d2128e",
   "metadata": {},
   "source": [
    "It can be inferred that higher the loan amount the lesser the chance of Loan Approval"
   ]
  },
  {
   "cell_type": "markdown",
   "id": "e6c07d64",
   "metadata": {},
   "source": [
    "#### Cleaning and Preprocessing"
   ]
  },
  {
   "cell_type": "code",
   "execution_count": 21,
   "id": "8ee16971",
   "metadata": {},
   "outputs": [],
   "source": [
    "# Combine train and test data to make cleaning and preprocessing easier\n",
    "target = train_data[\"Loan_Status\"]\n",
    "test_id = test_data[\"Loan_ID\"]\n",
    "\n",
    "train_data_1 = train_data.drop([\"Loan_ID\", \"Loan_Status\"], axis = 1)\n",
    "test_data_1 = test_data.drop(\"Loan_ID\", axis = 1)\n",
    "\n",
    "data = pd.concat([train_data_1, test_data_1], axis = 0).reset_index(drop = True)"
   ]
  },
  {
   "cell_type": "code",
   "execution_count": 22,
   "id": "560e743b",
   "metadata": {},
   "outputs": [
    {
     "data": {
      "text/html": [
       "<div>\n",
       "<style scoped>\n",
       "    .dataframe tbody tr th:only-of-type {\n",
       "        vertical-align: middle;\n",
       "    }\n",
       "\n",
       "    .dataframe tbody tr th {\n",
       "        vertical-align: top;\n",
       "    }\n",
       "\n",
       "    .dataframe thead th {\n",
       "        text-align: right;\n",
       "    }\n",
       "</style>\n",
       "<table border=\"1\" class=\"dataframe\">\n",
       "  <thead>\n",
       "    <tr style=\"text-align: right;\">\n",
       "      <th></th>\n",
       "      <th>Gender</th>\n",
       "      <th>Married</th>\n",
       "      <th>Dependents</th>\n",
       "      <th>Education</th>\n",
       "      <th>Self_Employed</th>\n",
       "      <th>ApplicantIncome</th>\n",
       "      <th>CoapplicantIncome</th>\n",
       "      <th>LoanAmount</th>\n",
       "      <th>Loan_Amount_Term</th>\n",
       "      <th>Credit_History</th>\n",
       "      <th>Property_Area</th>\n",
       "      <th>ApplicantIncome_cat</th>\n",
       "      <th>Coapplicant_Income_cat</th>\n",
       "      <th>Total_Income</th>\n",
       "      <th>Total_Income_bin</th>\n",
       "      <th>LoanAmount_cat</th>\n",
       "    </tr>\n",
       "  </thead>\n",
       "  <tbody>\n",
       "    <tr>\n",
       "      <th>0</th>\n",
       "      <td>Male</td>\n",
       "      <td>No</td>\n",
       "      <td>0</td>\n",
       "      <td>Graduate</td>\n",
       "      <td>No</td>\n",
       "      <td>5849</td>\n",
       "      <td>0.0</td>\n",
       "      <td>NaN</td>\n",
       "      <td>360.0</td>\n",
       "      <td>1.0</td>\n",
       "      <td>Urban</td>\n",
       "      <td>High</td>\n",
       "      <td>Low</td>\n",
       "      <td>5849.0</td>\n",
       "      <td>Average</td>\n",
       "      <td>NaN</td>\n",
       "    </tr>\n",
       "    <tr>\n",
       "      <th>1</th>\n",
       "      <td>Male</td>\n",
       "      <td>Yes</td>\n",
       "      <td>1</td>\n",
       "      <td>Graduate</td>\n",
       "      <td>No</td>\n",
       "      <td>4583</td>\n",
       "      <td>1508.0</td>\n",
       "      <td>128.0</td>\n",
       "      <td>360.0</td>\n",
       "      <td>1.0</td>\n",
       "      <td>Rural</td>\n",
       "      <td>High</td>\n",
       "      <td>Average</td>\n",
       "      <td>6091.0</td>\n",
       "      <td>High</td>\n",
       "      <td>Average</td>\n",
       "    </tr>\n",
       "    <tr>\n",
       "      <th>2</th>\n",
       "      <td>Male</td>\n",
       "      <td>Yes</td>\n",
       "      <td>0</td>\n",
       "      <td>Graduate</td>\n",
       "      <td>Yes</td>\n",
       "      <td>3000</td>\n",
       "      <td>0.0</td>\n",
       "      <td>66.0</td>\n",
       "      <td>360.0</td>\n",
       "      <td>1.0</td>\n",
       "      <td>Urban</td>\n",
       "      <td>Average</td>\n",
       "      <td>Low</td>\n",
       "      <td>3000.0</td>\n",
       "      <td>Average</td>\n",
       "      <td>Low</td>\n",
       "    </tr>\n",
       "    <tr>\n",
       "      <th>3</th>\n",
       "      <td>Male</td>\n",
       "      <td>Yes</td>\n",
       "      <td>0</td>\n",
       "      <td>Not Graduate</td>\n",
       "      <td>No</td>\n",
       "      <td>2583</td>\n",
       "      <td>2358.0</td>\n",
       "      <td>120.0</td>\n",
       "      <td>360.0</td>\n",
       "      <td>1.0</td>\n",
       "      <td>Urban</td>\n",
       "      <td>Average</td>\n",
       "      <td>Average</td>\n",
       "      <td>4941.0</td>\n",
       "      <td>Average</td>\n",
       "      <td>Average</td>\n",
       "    </tr>\n",
       "    <tr>\n",
       "      <th>4</th>\n",
       "      <td>Male</td>\n",
       "      <td>No</td>\n",
       "      <td>0</td>\n",
       "      <td>Graduate</td>\n",
       "      <td>No</td>\n",
       "      <td>6000</td>\n",
       "      <td>0.0</td>\n",
       "      <td>141.0</td>\n",
       "      <td>360.0</td>\n",
       "      <td>1.0</td>\n",
       "      <td>Urban</td>\n",
       "      <td>High</td>\n",
       "      <td>Low</td>\n",
       "      <td>6000.0</td>\n",
       "      <td>Average</td>\n",
       "      <td>Average</td>\n",
       "    </tr>\n",
       "  </tbody>\n",
       "</table>\n",
       "</div>"
      ],
      "text/plain": [
       "  Gender Married Dependents     Education Self_Employed  ApplicantIncome  \\\n",
       "0   Male      No          0      Graduate            No             5849   \n",
       "1   Male     Yes          1      Graduate            No             4583   \n",
       "2   Male     Yes          0      Graduate           Yes             3000   \n",
       "3   Male     Yes          0  Not Graduate            No             2583   \n",
       "4   Male      No          0      Graduate            No             6000   \n",
       "\n",
       "   CoapplicantIncome  LoanAmount  Loan_Amount_Term  Credit_History  \\\n",
       "0                0.0         NaN             360.0             1.0   \n",
       "1             1508.0       128.0             360.0             1.0   \n",
       "2                0.0        66.0             360.0             1.0   \n",
       "3             2358.0       120.0             360.0             1.0   \n",
       "4                0.0       141.0             360.0             1.0   \n",
       "\n",
       "  Property_Area ApplicantIncome_cat Coapplicant_Income_cat  Total_Income  \\\n",
       "0         Urban                High                    Low        5849.0   \n",
       "1         Rural                High                Average        6091.0   \n",
       "2         Urban             Average                    Low        3000.0   \n",
       "3         Urban             Average                Average        4941.0   \n",
       "4         Urban                High                    Low        6000.0   \n",
       "\n",
       "  Total_Income_bin LoanAmount_cat  \n",
       "0          Average            NaN  \n",
       "1             High        Average  \n",
       "2          Average            Low  \n",
       "3          Average        Average  \n",
       "4          Average        Average  "
      ]
     },
     "execution_count": 22,
     "metadata": {},
     "output_type": "execute_result"
    }
   ],
   "source": [
    "# view first 5 rows of data\n",
    "data.head()"
   ]
  },
  {
   "cell_type": "code",
   "execution_count": 23,
   "id": "695fe5c8",
   "metadata": {},
   "outputs": [
    {
     "name": "stdout",
     "output_type": "stream",
     "text": [
      "<class 'pandas.core.frame.DataFrame'>\n",
      "RangeIndex: 981 entries, 0 to 980\n",
      "Data columns (total 16 columns):\n",
      " #   Column                  Non-Null Count  Dtype   \n",
      "---  ------                  --------------  -----   \n",
      " 0   Gender                  957 non-null    object  \n",
      " 1   Married                 978 non-null    object  \n",
      " 2   Dependents              956 non-null    object  \n",
      " 3   Education               981 non-null    object  \n",
      " 4   Self_Employed           926 non-null    object  \n",
      " 5   ApplicantIncome         981 non-null    int64   \n",
      " 6   CoapplicantIncome       981 non-null    float64 \n",
      " 7   LoanAmount              954 non-null    float64 \n",
      " 8   Loan_Amount_Term        961 non-null    float64 \n",
      " 9   Credit_History          902 non-null    float64 \n",
      " 10  Property_Area           981 non-null    object  \n",
      " 11  ApplicantIncome_cat     614 non-null    category\n",
      " 12  Coapplicant_Income_cat  614 non-null    category\n",
      " 13  Total_Income            614 non-null    float64 \n",
      " 14  Total_Income_bin        614 non-null    category\n",
      " 15  LoanAmount_cat          592 non-null    category\n",
      "dtypes: category(4), float64(5), int64(1), object(6)\n",
      "memory usage: 96.5+ KB\n"
     ]
    }
   ],
   "source": [
    "data.info()"
   ]
  },
  {
   "cell_type": "code",
   "execution_count": 24,
   "id": "0a04ee25",
   "metadata": {},
   "outputs": [
    {
     "data": {
      "text/plain": [
       "['Gender',\n",
       " 'Married',\n",
       " 'Dependents',\n",
       " 'Self_Employed',\n",
       " 'ApplicantIncome_cat',\n",
       " 'Coapplicant_Income_cat',\n",
       " 'Total_Income_bin',\n",
       " 'LoanAmount_cat']"
      ]
     },
     "execution_count": 24,
     "metadata": {},
     "output_type": "execute_result"
    }
   ],
   "source": [
    "# get categorical columns with null values in the train dataset\n",
    "data_1 = data.copy()\n",
    "missing_cat_cols = list(data_1.select_dtypes(['object', 'category']).loc[:, data_1.isna().sum() > 0].columns)\n",
    "missing_cat_cols"
   ]
  },
  {
   "cell_type": "code",
   "execution_count": 25,
   "id": "f0b413b7",
   "metadata": {},
   "outputs": [
    {
     "data": {
      "text/plain": [
       "Gender                     24\n",
       "Married                     3\n",
       "Dependents                 25\n",
       "Self_Employed              55\n",
       "ApplicantIncome_cat       367\n",
       "Coapplicant_Income_cat    367\n",
       "Total_Income_bin          367\n",
       "LoanAmount_cat            389\n",
       "dtype: int64"
      ]
     },
     "execution_count": 25,
     "metadata": {},
     "output_type": "execute_result"
    }
   ],
   "source": [
    "data_1[missing_cat_cols].isna().sum()"
   ]
  },
  {
   "cell_type": "code",
   "execution_count": 26,
   "id": "f7aff8ff",
   "metadata": {},
   "outputs": [],
   "source": [
    "# Fill Categorical missing values with mode\n",
    "for column in missing_cat_cols:\n",
    "    data_1[column] = data_1[column].fillna(data_1[column].mode()[0])"
   ]
  },
  {
   "cell_type": "code",
   "execution_count": 27,
   "id": "12dd9f93",
   "metadata": {},
   "outputs": [
    {
     "data": {
      "text/plain": [
       "['LoanAmount', 'Loan_Amount_Term', 'Credit_History', 'Total_Income']"
      ]
     },
     "execution_count": 27,
     "metadata": {},
     "output_type": "execute_result"
    }
   ],
   "source": [
    "missing_num_cols = list(data_1.select_dtypes(np.number).loc[:, data_1.isna().sum() > 0].columns)\n",
    "missing_num_cols"
   ]
  },
  {
   "cell_type": "code",
   "execution_count": 28,
   "id": "9edc2ca4",
   "metadata": {},
   "outputs": [
    {
     "data": {
      "text/plain": [
       "LoanAmount           27\n",
       "Loan_Amount_Term     20\n",
       "Credit_History       79\n",
       "Total_Income        367\n",
       "dtype: int64"
      ]
     },
     "execution_count": 28,
     "metadata": {},
     "output_type": "execute_result"
    }
   ],
   "source": [
    "data_1[missing_num_cols].isna().sum()"
   ]
  },
  {
   "cell_type": "code",
   "execution_count": 29,
   "id": "5a869b24",
   "metadata": {},
   "outputs": [
    {
     "data": {
      "text/html": [
       "<div>\n",
       "<style scoped>\n",
       "    .dataframe tbody tr th:only-of-type {\n",
       "        vertical-align: middle;\n",
       "    }\n",
       "\n",
       "    .dataframe tbody tr th {\n",
       "        vertical-align: top;\n",
       "    }\n",
       "\n",
       "    .dataframe thead th {\n",
       "        text-align: right;\n",
       "    }\n",
       "</style>\n",
       "<table border=\"1\" class=\"dataframe\">\n",
       "  <thead>\n",
       "    <tr style=\"text-align: right;\">\n",
       "      <th></th>\n",
       "      <th>LoanAmount</th>\n",
       "      <th>Loan_Amount_Term</th>\n",
       "      <th>Credit_History</th>\n",
       "      <th>Total_Income</th>\n",
       "    </tr>\n",
       "  </thead>\n",
       "  <tbody>\n",
       "    <tr>\n",
       "      <th>count</th>\n",
       "      <td>954.000000</td>\n",
       "      <td>961.000000</td>\n",
       "      <td>902.000000</td>\n",
       "      <td>614.000000</td>\n",
       "    </tr>\n",
       "    <tr>\n",
       "      <th>mean</th>\n",
       "      <td>142.511530</td>\n",
       "      <td>342.201873</td>\n",
       "      <td>0.835920</td>\n",
       "      <td>7024.705081</td>\n",
       "    </tr>\n",
       "    <tr>\n",
       "      <th>std</th>\n",
       "      <td>77.421743</td>\n",
       "      <td>65.100602</td>\n",
       "      <td>0.370553</td>\n",
       "      <td>6458.663872</td>\n",
       "    </tr>\n",
       "    <tr>\n",
       "      <th>min</th>\n",
       "      <td>9.000000</td>\n",
       "      <td>6.000000</td>\n",
       "      <td>0.000000</td>\n",
       "      <td>1442.000000</td>\n",
       "    </tr>\n",
       "    <tr>\n",
       "      <th>25%</th>\n",
       "      <td>100.000000</td>\n",
       "      <td>360.000000</td>\n",
       "      <td>1.000000</td>\n",
       "      <td>4166.000000</td>\n",
       "    </tr>\n",
       "    <tr>\n",
       "      <th>50%</th>\n",
       "      <td>126.000000</td>\n",
       "      <td>360.000000</td>\n",
       "      <td>1.000000</td>\n",
       "      <td>5416.500000</td>\n",
       "    </tr>\n",
       "    <tr>\n",
       "      <th>75%</th>\n",
       "      <td>162.000000</td>\n",
       "      <td>360.000000</td>\n",
       "      <td>1.000000</td>\n",
       "      <td>7521.750000</td>\n",
       "    </tr>\n",
       "    <tr>\n",
       "      <th>max</th>\n",
       "      <td>700.000000</td>\n",
       "      <td>480.000000</td>\n",
       "      <td>1.000000</td>\n",
       "      <td>81000.000000</td>\n",
       "    </tr>\n",
       "  </tbody>\n",
       "</table>\n",
       "</div>"
      ],
      "text/plain": [
       "       LoanAmount  Loan_Amount_Term  Credit_History  Total_Income\n",
       "count  954.000000        961.000000      902.000000    614.000000\n",
       "mean   142.511530        342.201873        0.835920   7024.705081\n",
       "std     77.421743         65.100602        0.370553   6458.663872\n",
       "min      9.000000          6.000000        0.000000   1442.000000\n",
       "25%    100.000000        360.000000        1.000000   4166.000000\n",
       "50%    126.000000        360.000000        1.000000   5416.500000\n",
       "75%    162.000000        360.000000        1.000000   7521.750000\n",
       "max    700.000000        480.000000        1.000000  81000.000000"
      ]
     },
     "execution_count": 29,
     "metadata": {},
     "output_type": "execute_result"
    }
   ],
   "source": [
    "data_1[missing_num_cols].describe()"
   ]
  },
  {
   "cell_type": "code",
   "execution_count": 30,
   "id": "ecf4aa2e",
   "metadata": {},
   "outputs": [],
   "source": [
    "# Fill missing numeric values with median\n",
    "for column in missing_num_cols:\n",
    "    data_1[column] = data_1[column].fillna(data_1[column].median())"
   ]
  },
  {
   "cell_type": "code",
   "execution_count": 31,
   "id": "e03c3d0e",
   "metadata": {},
   "outputs": [
    {
     "data": {
      "text/plain": [
       "Gender                    0\n",
       "Married                   0\n",
       "Dependents                0\n",
       "Education                 0\n",
       "Self_Employed             0\n",
       "ApplicantIncome           0\n",
       "CoapplicantIncome         0\n",
       "LoanAmount                0\n",
       "Loan_Amount_Term          0\n",
       "Credit_History            0\n",
       "Property_Area             0\n",
       "ApplicantIncome_cat       0\n",
       "Coapplicant_Income_cat    0\n",
       "Total_Income              0\n",
       "Total_Income_bin          0\n",
       "LoanAmount_cat            0\n",
       "dtype: int64"
      ]
     },
     "execution_count": 31,
     "metadata": {},
     "output_type": "execute_result"
    }
   ],
   "source": [
    "data_1.isna().sum()"
   ]
  },
  {
   "cell_type": "markdown",
   "id": "b0ee68df",
   "metadata": {},
   "source": [
    "#### Preprocessing"
   ]
  },
  {
   "cell_type": "code",
   "execution_count": 32,
   "id": "43db7cb4",
   "metadata": {},
   "outputs": [],
   "source": [
    "data_2 = data_1.copy()"
   ]
  },
  {
   "cell_type": "code",
   "execution_count": 33,
   "id": "36d02288",
   "metadata": {},
   "outputs": [],
   "source": [
    "data_2['Dependents'].replace('3+', 3, inplace = True)"
   ]
  },
  {
   "cell_type": "code",
   "execution_count": 34,
   "id": "e864d45f",
   "metadata": {},
   "outputs": [
    {
     "data": {
      "text/html": [
       "<div>\n",
       "<style scoped>\n",
       "    .dataframe tbody tr th:only-of-type {\n",
       "        vertical-align: middle;\n",
       "    }\n",
       "\n",
       "    .dataframe tbody tr th {\n",
       "        vertical-align: top;\n",
       "    }\n",
       "\n",
       "    .dataframe thead th {\n",
       "        text-align: right;\n",
       "    }\n",
       "</style>\n",
       "<table border=\"1\" class=\"dataframe\">\n",
       "  <thead>\n",
       "    <tr style=\"text-align: right;\">\n",
       "      <th></th>\n",
       "      <th>Gender</th>\n",
       "      <th>Married</th>\n",
       "      <th>Dependents</th>\n",
       "      <th>Education</th>\n",
       "      <th>Self_Employed</th>\n",
       "      <th>ApplicantIncome</th>\n",
       "      <th>CoapplicantIncome</th>\n",
       "      <th>LoanAmount</th>\n",
       "      <th>Loan_Amount_Term</th>\n",
       "      <th>Credit_History</th>\n",
       "      <th>Property_Area</th>\n",
       "      <th>ApplicantIncome_cat</th>\n",
       "      <th>Coapplicant_Income_cat</th>\n",
       "      <th>Total_Income</th>\n",
       "      <th>Total_Income_bin</th>\n",
       "      <th>LoanAmount_cat</th>\n",
       "    </tr>\n",
       "  </thead>\n",
       "  <tbody>\n",
       "    <tr>\n",
       "      <th>0</th>\n",
       "      <td>Male</td>\n",
       "      <td>No</td>\n",
       "      <td>0</td>\n",
       "      <td>Graduate</td>\n",
       "      <td>No</td>\n",
       "      <td>5849</td>\n",
       "      <td>0.0</td>\n",
       "      <td>126.0</td>\n",
       "      <td>360.0</td>\n",
       "      <td>1.0</td>\n",
       "      <td>Urban</td>\n",
       "      <td>High</td>\n",
       "      <td>Low</td>\n",
       "      <td>5849.0</td>\n",
       "      <td>Average</td>\n",
       "      <td>Average</td>\n",
       "    </tr>\n",
       "    <tr>\n",
       "      <th>1</th>\n",
       "      <td>Male</td>\n",
       "      <td>Yes</td>\n",
       "      <td>1</td>\n",
       "      <td>Graduate</td>\n",
       "      <td>No</td>\n",
       "      <td>4583</td>\n",
       "      <td>1508.0</td>\n",
       "      <td>128.0</td>\n",
       "      <td>360.0</td>\n",
       "      <td>1.0</td>\n",
       "      <td>Rural</td>\n",
       "      <td>High</td>\n",
       "      <td>Average</td>\n",
       "      <td>6091.0</td>\n",
       "      <td>High</td>\n",
       "      <td>Average</td>\n",
       "    </tr>\n",
       "    <tr>\n",
       "      <th>2</th>\n",
       "      <td>Male</td>\n",
       "      <td>Yes</td>\n",
       "      <td>0</td>\n",
       "      <td>Graduate</td>\n",
       "      <td>Yes</td>\n",
       "      <td>3000</td>\n",
       "      <td>0.0</td>\n",
       "      <td>66.0</td>\n",
       "      <td>360.0</td>\n",
       "      <td>1.0</td>\n",
       "      <td>Urban</td>\n",
       "      <td>Average</td>\n",
       "      <td>Low</td>\n",
       "      <td>3000.0</td>\n",
       "      <td>Average</td>\n",
       "      <td>Low</td>\n",
       "    </tr>\n",
       "    <tr>\n",
       "      <th>3</th>\n",
       "      <td>Male</td>\n",
       "      <td>Yes</td>\n",
       "      <td>0</td>\n",
       "      <td>Not Graduate</td>\n",
       "      <td>No</td>\n",
       "      <td>2583</td>\n",
       "      <td>2358.0</td>\n",
       "      <td>120.0</td>\n",
       "      <td>360.0</td>\n",
       "      <td>1.0</td>\n",
       "      <td>Urban</td>\n",
       "      <td>Average</td>\n",
       "      <td>Average</td>\n",
       "      <td>4941.0</td>\n",
       "      <td>Average</td>\n",
       "      <td>Average</td>\n",
       "    </tr>\n",
       "    <tr>\n",
       "      <th>4</th>\n",
       "      <td>Male</td>\n",
       "      <td>No</td>\n",
       "      <td>0</td>\n",
       "      <td>Graduate</td>\n",
       "      <td>No</td>\n",
       "      <td>6000</td>\n",
       "      <td>0.0</td>\n",
       "      <td>141.0</td>\n",
       "      <td>360.0</td>\n",
       "      <td>1.0</td>\n",
       "      <td>Urban</td>\n",
       "      <td>High</td>\n",
       "      <td>Low</td>\n",
       "      <td>6000.0</td>\n",
       "      <td>Average</td>\n",
       "      <td>Average</td>\n",
       "    </tr>\n",
       "  </tbody>\n",
       "</table>\n",
       "</div>"
      ],
      "text/plain": [
       "  Gender Married Dependents     Education Self_Employed  ApplicantIncome  \\\n",
       "0   Male      No          0      Graduate            No             5849   \n",
       "1   Male     Yes          1      Graduate            No             4583   \n",
       "2   Male     Yes          0      Graduate           Yes             3000   \n",
       "3   Male     Yes          0  Not Graduate            No             2583   \n",
       "4   Male      No          0      Graduate            No             6000   \n",
       "\n",
       "   CoapplicantIncome  LoanAmount  Loan_Amount_Term  Credit_History  \\\n",
       "0                0.0       126.0             360.0             1.0   \n",
       "1             1508.0       128.0             360.0             1.0   \n",
       "2                0.0        66.0             360.0             1.0   \n",
       "3             2358.0       120.0             360.0             1.0   \n",
       "4                0.0       141.0             360.0             1.0   \n",
       "\n",
       "  Property_Area ApplicantIncome_cat Coapplicant_Income_cat  Total_Income  \\\n",
       "0         Urban                High                    Low        5849.0   \n",
       "1         Rural                High                Average        6091.0   \n",
       "2         Urban             Average                    Low        3000.0   \n",
       "3         Urban             Average                Average        4941.0   \n",
       "4         Urban                High                    Low        6000.0   \n",
       "\n",
       "  Total_Income_bin LoanAmount_cat  \n",
       "0          Average        Average  \n",
       "1             High        Average  \n",
       "2          Average            Low  \n",
       "3          Average        Average  \n",
       "4          Average        Average  "
      ]
     },
     "execution_count": 34,
     "metadata": {},
     "output_type": "execute_result"
    }
   ],
   "source": [
    "data_2.head()"
   ]
  },
  {
   "cell_type": "code",
   "execution_count": 35,
   "id": "9ac472cf",
   "metadata": {},
   "outputs": [
    {
     "data": {
      "image/png": "[encoded data removed]",
      "text/plain": [
       "<Figure size 432x288 with 1 Axes>"
      ]
     },
     "metadata": {
      "needs_background": "light"
     },
     "output_type": "display_data"
    }
   ],
   "source": [
    "sns.distplot(data_2['ApplicantIncome']);"
   ]
  },
  {
   "cell_type": "code",
   "execution_count": 36,
   "id": "f4a661d6",
   "metadata": {},
   "outputs": [
    {
     "data": {
      "image/png": "[encoded data removed]",
      "text/plain": [
       "<Figure size 432x288 with 1 Axes>"
      ]
     },
     "metadata": {
      "needs_background": "light"
     },
     "output_type": "display_data"
    }
   ],
   "source": [
    "# take the log transformation to make the distribution normal\n",
    "data_2['ApplicantIncome_log'] = np.log1p(data_2['ApplicantIncome'])\n",
    "sns.distplot(data_2['ApplicantIncome_log']);"
   ]
  },
  {
   "cell_type": "code",
   "execution_count": 37,
   "id": "e1bbf3e0",
   "metadata": {},
   "outputs": [
    {
     "data": {
      "image/png": "[encoded data removed]",
      "text/plain": [
       "<Figure size 432x288 with 1 Axes>"
      ]
     },
     "metadata": {
      "needs_background": "light"
     },
     "output_type": "display_data"
    }
   ],
   "source": [
    "sns.distplot(data_2['CoapplicantIncome']);"
   ]
  },
  {
   "cell_type": "code",
   "execution_count": 38,
   "id": "192c2249",
   "metadata": {},
   "outputs": [
    {
     "data": {
      "image/png": "[encoded data removed]",
      "text/plain": [
       "<Figure size 432x288 with 1 Axes>"
      ]
     },
     "metadata": {
      "needs_background": "light"
     },
     "output_type": "display_data"
    }
   ],
   "source": [
    "# take the log transformation to make the distribution normal\n",
    "data_2['CoapplicantIncome_log'] = np.log1p(data_2['CoapplicantIncome'])\n",
    "sns.distplot(data_2['CoapplicantIncome_log']);"
   ]
  },
  {
   "cell_type": "code",
   "execution_count": 39,
   "id": "5822e9a8",
   "metadata": {},
   "outputs": [
    {
     "data": {
      "image/png": "[encoded data removed]",
      "text/plain": [
       "<Figure size 432x288 with 1 Axes>"
      ]
     },
     "metadata": {
      "needs_background": "light"
     },
     "output_type": "display_data"
    }
   ],
   "source": [
    "sns.distplot(data_2['LoanAmount']);"
   ]
  },
  {
   "cell_type": "code",
   "execution_count": 40,
   "id": "e2936ad9",
   "metadata": {},
   "outputs": [
    {
     "data": {
      "image/png": "[encoded data removed]",
      "text/plain": [
       "<Figure size 432x288 with 1 Axes>"
      ]
     },
     "metadata": {
      "needs_background": "light"
     },
     "output_type": "display_data"
    }
   ],
   "source": [
    "# take the log transformation to make the distribution normal\n",
    "data_2['LoanAmount_log'] = np.log(data_2['LoanAmount'])\n",
    "sns.distplot(data_2['LoanAmount_log']);"
   ]
  },
  {
   "cell_type": "code",
   "execution_count": 41,
   "id": "a0f584ff",
   "metadata": {},
   "outputs": [
    {
     "data": {
      "image/png": "[encoded data removed]",
      "text/plain": [
       "<Figure size 432x288 with 1 Axes>"
      ]
     },
     "metadata": {
      "needs_background": "light"
     },
     "output_type": "display_data"
    }
   ],
   "source": [
    "sns.distplot(data_2['Total_Income']);"
   ]
  },
  {
   "cell_type": "code",
   "execution_count": 42,
   "id": "ccfba9e8",
   "metadata": {},
   "outputs": [
    {
     "data": {
      "image/png": "[encoded data removed]",
      "text/plain": [
       "<Figure size 432x288 with 1 Axes>"
      ]
     },
     "metadata": {
      "needs_background": "light"
     },
     "output_type": "display_data"
    }
   ],
   "source": [
    "# take the log transformation to make the distribution normal\n",
    "data_2['Total_Income_log'] = np.log(data_2['Total_Income'])\n",
    "sns.distplot(data_2['Total_Income_log']);"
   ]
  },
  {
   "cell_type": "code",
   "execution_count": 43,
   "id": "46ad5a87",
   "metadata": {},
   "outputs": [
    {
     "data": {
      "image/png": "[encoded data removed]",
      "text/plain": [
       "<Figure size 432x288 with 1 Axes>"
      ]
     },
     "metadata": {
      "needs_background": "light"
     },
     "output_type": "display_data"
    }
   ],
   "source": [
    "sns.distplot(data_2['Loan_Amount_Term']);"
   ]
  },
  {
   "cell_type": "code",
   "execution_count": 44,
   "id": "7ed56912",
   "metadata": {},
   "outputs": [
    {
     "data": {
      "image/png": "[encoded data removed]",
      "text/plain": [
       "<Figure size 432x288 with 1 Axes>"
      ]
     },
     "metadata": {
      "needs_background": "light"
     },
     "output_type": "display_data"
    }
   ],
   "source": [
    "# take the log transformation to make the distribution normal\n",
    "data_2['Loan_Amount_Term_log'] = np.log(data_2['Loan_Amount_Term'])\n",
    "sns.distplot(data_2['Loan_Amount_Term_log']);"
   ]
  },
  {
   "cell_type": "code",
   "execution_count": 45,
   "id": "d13d185f",
   "metadata": {},
   "outputs": [],
   "source": [
    "data_3 = data_2.copy()\n",
    "data_3 = data_3.drop(['ApplicantIncome','CoapplicantIncome','LoanAmount', 'Total_Income', 'Loan_Amount_Term'], axis = 1)"
   ]
  },
  {
   "cell_type": "code",
   "execution_count": 46,
   "id": "e1d0618c",
   "metadata": {},
   "outputs": [
    {
     "data": {
      "text/html": [
       "<div>\n",
       "<style scoped>\n",
       "    .dataframe tbody tr th:only-of-type {\n",
       "        vertical-align: middle;\n",
       "    }\n",
       "\n",
       "    .dataframe tbody tr th {\n",
       "        vertical-align: top;\n",
       "    }\n",
       "\n",
       "    .dataframe thead th {\n",
       "        text-align: right;\n",
       "    }\n",
       "</style>\n",
       "<table border=\"1\" class=\"dataframe\">\n",
       "  <thead>\n",
       "    <tr style=\"text-align: right;\">\n",
       "      <th></th>\n",
       "      <th>Gender</th>\n",
       "      <th>Married</th>\n",
       "      <th>Dependents</th>\n",
       "      <th>Education</th>\n",
       "      <th>Self_Employed</th>\n",
       "      <th>Credit_History</th>\n",
       "      <th>Property_Area</th>\n",
       "      <th>ApplicantIncome_cat</th>\n",
       "      <th>Coapplicant_Income_cat</th>\n",
       "      <th>Total_Income_bin</th>\n",
       "      <th>LoanAmount_cat</th>\n",
       "      <th>ApplicantIncome_log</th>\n",
       "      <th>CoapplicantIncome_log</th>\n",
       "      <th>LoanAmount_log</th>\n",
       "      <th>Total_Income_log</th>\n",
       "      <th>Loan_Amount_Term_log</th>\n",
       "    </tr>\n",
       "  </thead>\n",
       "  <tbody>\n",
       "    <tr>\n",
       "      <th>0</th>\n",
       "      <td>Male</td>\n",
       "      <td>No</td>\n",
       "      <td>0</td>\n",
       "      <td>Graduate</td>\n",
       "      <td>No</td>\n",
       "      <td>1.0</td>\n",
       "      <td>Urban</td>\n",
       "      <td>High</td>\n",
       "      <td>Low</td>\n",
       "      <td>Average</td>\n",
       "      <td>Average</td>\n",
       "      <td>8.674197</td>\n",
       "      <td>0.000000</td>\n",
       "      <td>4.836282</td>\n",
       "      <td>8.674026</td>\n",
       "      <td>5.886104</td>\n",
       "    </tr>\n",
       "    <tr>\n",
       "      <th>1</th>\n",
       "      <td>Male</td>\n",
       "      <td>Yes</td>\n",
       "      <td>1</td>\n",
       "      <td>Graduate</td>\n",
       "      <td>No</td>\n",
       "      <td>1.0</td>\n",
       "      <td>Rural</td>\n",
       "      <td>High</td>\n",
       "      <td>Average</td>\n",
       "      <td>High</td>\n",
       "      <td>Average</td>\n",
       "      <td>8.430327</td>\n",
       "      <td>7.319202</td>\n",
       "      <td>4.852030</td>\n",
       "      <td>8.714568</td>\n",
       "      <td>5.886104</td>\n",
       "    </tr>\n",
       "    <tr>\n",
       "      <th>2</th>\n",
       "      <td>Male</td>\n",
       "      <td>Yes</td>\n",
       "      <td>0</td>\n",
       "      <td>Graduate</td>\n",
       "      <td>Yes</td>\n",
       "      <td>1.0</td>\n",
       "      <td>Urban</td>\n",
       "      <td>Average</td>\n",
       "      <td>Low</td>\n",
       "      <td>Average</td>\n",
       "      <td>Low</td>\n",
       "      <td>8.006701</td>\n",
       "      <td>0.000000</td>\n",
       "      <td>4.189655</td>\n",
       "      <td>8.006368</td>\n",
       "      <td>5.886104</td>\n",
       "    </tr>\n",
       "  </tbody>\n",
       "</table>\n",
       "</div>"
      ],
      "text/plain": [
       "  Gender Married Dependents Education Self_Employed  Credit_History  \\\n",
       "0   Male      No          0  Graduate            No             1.0   \n",
       "1   Male     Yes          1  Graduate            No             1.0   \n",
       "2   Male     Yes          0  Graduate           Yes             1.0   \n",
       "\n",
       "  Property_Area ApplicantIncome_cat Coapplicant_Income_cat Total_Income_bin  \\\n",
       "0         Urban                High                    Low          Average   \n",
       "1         Rural                High                Average             High   \n",
       "2         Urban             Average                    Low          Average   \n",
       "\n",
       "  LoanAmount_cat  ApplicantIncome_log  CoapplicantIncome_log  LoanAmount_log  \\\n",
       "0        Average             8.674197               0.000000        4.836282   \n",
       "1        Average             8.430327               7.319202        4.852030   \n",
       "2            Low             8.006701               0.000000        4.189655   \n",
       "\n",
       "   Total_Income_log  Loan_Amount_Term_log  \n",
       "0          8.674026              5.886104  \n",
       "1          8.714568              5.886104  \n",
       "2          8.006368              5.886104  "
      ]
     },
     "execution_count": 46,
     "metadata": {},
     "output_type": "execute_result"
    }
   ],
   "source": [
    "data_3.head(3)"
   ]
  },
  {
   "cell_type": "code",
   "execution_count": 47,
   "id": "dece9742",
   "metadata": {},
   "outputs": [],
   "source": [
    "# # Categorical Encoding\n",
    "# data_3 = pd.get_dummies(data_3, columns = ['Gender', 'Married', 'Self_Employed'])\n",
    "\n",
    "# Ordinal Encoding\n",
    "for col in ['Education', 'Property_Area', 'ApplicantIncome_cat', 'Coapplicant_Income_cat', 'Total_Income_bin', 'LoanAmount_cat']:\n",
    "    data_3[col], _ = data_3[col].factorize()"
   ]
  },
  {
   "cell_type": "code",
   "execution_count": 48,
   "id": "81182c9e",
   "metadata": {},
   "outputs": [],
   "source": [
    "# Categorical Encoding\n",
    "data_3 = pd.get_dummies(data_3, columns = ['Gender', 'Married', 'Self_Employed'])"
   ]
  },
  {
   "cell_type": "code",
   "execution_count": 49,
   "id": "5bcbe19a",
   "metadata": {},
   "outputs": [
    {
     "data": {
      "text/html": [
       "<div>\n",
       "<style scoped>\n",
       "    .dataframe tbody tr th:only-of-type {\n",
       "        vertical-align: middle;\n",
       "    }\n",
       "\n",
       "    .dataframe tbody tr th {\n",
       "        vertical-align: top;\n",
       "    }\n",
       "\n",
       "    .dataframe thead th {\n",
       "        text-align: right;\n",
       "    }\n",
       "</style>\n",
       "<table border=\"1\" class=\"dataframe\">\n",
       "  <thead>\n",
       "    <tr style=\"text-align: right;\">\n",
       "      <th></th>\n",
       "      <th>Dependents</th>\n",
       "      <th>Education</th>\n",
       "      <th>Credit_History</th>\n",
       "      <th>Property_Area</th>\n",
       "      <th>ApplicantIncome_cat</th>\n",
       "      <th>Coapplicant_Income_cat</th>\n",
       "      <th>Total_Income_bin</th>\n",
       "      <th>LoanAmount_cat</th>\n",
       "      <th>ApplicantIncome_log</th>\n",
       "      <th>CoapplicantIncome_log</th>\n",
       "      <th>LoanAmount_log</th>\n",
       "      <th>Total_Income_log</th>\n",
       "      <th>Loan_Amount_Term_log</th>\n",
       "      <th>Gender_Female</th>\n",
       "      <th>Gender_Male</th>\n",
       "      <th>Married_No</th>\n",
       "      <th>Married_Yes</th>\n",
       "      <th>Self_Employed_No</th>\n",
       "      <th>Self_Employed_Yes</th>\n",
       "    </tr>\n",
       "  </thead>\n",
       "  <tbody>\n",
       "    <tr>\n",
       "      <th>0</th>\n",
       "      <td>0</td>\n",
       "      <td>0</td>\n",
       "      <td>1.0</td>\n",
       "      <td>0</td>\n",
       "      <td>0</td>\n",
       "      <td>0</td>\n",
       "      <td>0</td>\n",
       "      <td>0</td>\n",
       "      <td>8.674197</td>\n",
       "      <td>0.000000</td>\n",
       "      <td>4.836282</td>\n",
       "      <td>8.674026</td>\n",
       "      <td>5.886104</td>\n",
       "      <td>0</td>\n",
       "      <td>1</td>\n",
       "      <td>1</td>\n",
       "      <td>0</td>\n",
       "      <td>1</td>\n",
       "      <td>0</td>\n",
       "    </tr>\n",
       "    <tr>\n",
       "      <th>1</th>\n",
       "      <td>1</td>\n",
       "      <td>0</td>\n",
       "      <td>1.0</td>\n",
       "      <td>1</td>\n",
       "      <td>0</td>\n",
       "      <td>1</td>\n",
       "      <td>1</td>\n",
       "      <td>0</td>\n",
       "      <td>8.430327</td>\n",
       "      <td>7.319202</td>\n",
       "      <td>4.852030</td>\n",
       "      <td>8.714568</td>\n",
       "      <td>5.886104</td>\n",
       "      <td>0</td>\n",
       "      <td>1</td>\n",
       "      <td>0</td>\n",
       "      <td>1</td>\n",
       "      <td>1</td>\n",
       "      <td>0</td>\n",
       "    </tr>\n",
       "    <tr>\n",
       "      <th>2</th>\n",
       "      <td>0</td>\n",
       "      <td>0</td>\n",
       "      <td>1.0</td>\n",
       "      <td>0</td>\n",
       "      <td>1</td>\n",
       "      <td>0</td>\n",
       "      <td>0</td>\n",
       "      <td>1</td>\n",
       "      <td>8.006701</td>\n",
       "      <td>0.000000</td>\n",
       "      <td>4.189655</td>\n",
       "      <td>8.006368</td>\n",
       "      <td>5.886104</td>\n",
       "      <td>0</td>\n",
       "      <td>1</td>\n",
       "      <td>0</td>\n",
       "      <td>1</td>\n",
       "      <td>0</td>\n",
       "      <td>1</td>\n",
       "    </tr>\n",
       "  </tbody>\n",
       "</table>\n",
       "</div>"
      ],
      "text/plain": [
       "  Dependents  Education  Credit_History  Property_Area  ApplicantIncome_cat  \\\n",
       "0          0          0             1.0              0                    0   \n",
       "1          1          0             1.0              1                    0   \n",
       "2          0          0             1.0              0                    1   \n",
       "\n",
       "   Coapplicant_Income_cat  Total_Income_bin  LoanAmount_cat  \\\n",
       "0                       0                 0               0   \n",
       "1                       1                 1               0   \n",
       "2                       0                 0               1   \n",
       "\n",
       "   ApplicantIncome_log  CoapplicantIncome_log  LoanAmount_log  \\\n",
       "0             8.674197               0.000000        4.836282   \n",
       "1             8.430327               7.319202        4.852030   \n",
       "2             8.006701               0.000000        4.189655   \n",
       "\n",
       "   Total_Income_log  Loan_Amount_Term_log  Gender_Female  Gender_Male  \\\n",
       "0          8.674026              5.886104              0            1   \n",
       "1          8.714568              5.886104              0            1   \n",
       "2          8.006368              5.886104              0            1   \n",
       "\n",
       "   Married_No  Married_Yes  Self_Employed_No  Self_Employed_Yes  \n",
       "0           1            0                 1                  0  \n",
       "1           0            1                 1                  0  \n",
       "2           0            1                 0                  1  "
      ]
     },
     "execution_count": 49,
     "metadata": {},
     "output_type": "execute_result"
    }
   ],
   "source": [
    "data_3.head(3)"
   ]
  },
  {
   "cell_type": "markdown",
   "id": "a89e8a0f",
   "metadata": {},
   "source": [
    "#### Feature Engineering"
   ]
  },
  {
   "cell_type": "code",
   "execution_count": 50,
   "id": "62037ec6",
   "metadata": {},
   "outputs": [],
   "source": [
    "data_4 = data_3.copy()"
   ]
  },
  {
   "cell_type": "code",
   "execution_count": 51,
   "id": "c5b2dd1b",
   "metadata": {},
   "outputs": [],
   "source": [
    "# Create EMI (monthly amount to be repaid by applicants) column\n",
    "data_4['EMI_log'] = data_2['LoanAmount_log'] / data_2['Loan_Amount_Term_log']"
   ]
  },
  {
   "cell_type": "code",
   "execution_count": 52,
   "id": "2fbf335a",
   "metadata": {},
   "outputs": [
    {
     "data": {
      "text/plain": [
       "0      0.821644\n",
       "1      0.824319\n",
       "2      0.711787\n",
       "3      0.813355\n",
       "4      0.840753\n",
       "         ...   \n",
       "976    0.803144\n",
       "977    0.806124\n",
       "978    0.821644\n",
       "979    0.860093\n",
       "980    0.882920\n",
       "Name: EMI_log, Length: 981, dtype: float64"
      ]
     },
     "execution_count": 52,
     "metadata": {},
     "output_type": "execute_result"
    }
   ],
   "source": [
    "data_4['EMI_log']"
   ]
  },
  {
   "cell_type": "code",
   "execution_count": 53,
   "id": "b8ec34c5",
   "metadata": {},
   "outputs": [],
   "source": [
    "# Create balance income(applicants income left after loan has been repaid) column\n",
    "data_4['BalanceIncome_log'] = data_4['Total_Income_log'] - (data_4['EMI_log']) # Multiply by 100 to make the units equal"
   ]
  },
  {
   "cell_type": "code",
   "execution_count": 54,
   "id": "dab1acd9",
   "metadata": {},
   "outputs": [],
   "source": [
    "# data_4 = data_4.drop(['ApplicantIncome_log', 'CoapplicantIncome_log', 'Loan_Amount_Term'], axis = 1)"
   ]
  },
  {
   "cell_type": "code",
   "execution_count": 55,
   "id": "5af5db1c",
   "metadata": {},
   "outputs": [
    {
     "data": {
      "text/html": [
       "<div>\n",
       "<style scoped>\n",
       "    .dataframe tbody tr th:only-of-type {\n",
       "        vertical-align: middle;\n",
       "    }\n",
       "\n",
       "    .dataframe tbody tr th {\n",
       "        vertical-align: top;\n",
       "    }\n",
       "\n",
       "    .dataframe thead th {\n",
       "        text-align: right;\n",
       "    }\n",
       "</style>\n",
       "<table border=\"1\" class=\"dataframe\">\n",
       "  <thead>\n",
       "    <tr style=\"text-align: right;\">\n",
       "      <th></th>\n",
       "      <th>Dependents</th>\n",
       "      <th>Education</th>\n",
       "      <th>Credit_History</th>\n",
       "      <th>Property_Area</th>\n",
       "      <th>ApplicantIncome_cat</th>\n",
       "      <th>Coapplicant_Income_cat</th>\n",
       "      <th>Total_Income_bin</th>\n",
       "      <th>LoanAmount_cat</th>\n",
       "      <th>ApplicantIncome_log</th>\n",
       "      <th>CoapplicantIncome_log</th>\n",
       "      <th>LoanAmount_log</th>\n",
       "      <th>Total_Income_log</th>\n",
       "      <th>Loan_Amount_Term_log</th>\n",
       "      <th>Gender_Female</th>\n",
       "      <th>Gender_Male</th>\n",
       "      <th>Married_No</th>\n",
       "      <th>Married_Yes</th>\n",
       "      <th>Self_Employed_No</th>\n",
       "      <th>Self_Employed_Yes</th>\n",
       "      <th>EMI_log</th>\n",
       "      <th>BalanceIncome_log</th>\n",
       "    </tr>\n",
       "  </thead>\n",
       "  <tbody>\n",
       "    <tr>\n",
       "      <th>0</th>\n",
       "      <td>0</td>\n",
       "      <td>0</td>\n",
       "      <td>1.0</td>\n",
       "      <td>0</td>\n",
       "      <td>0</td>\n",
       "      <td>0</td>\n",
       "      <td>0</td>\n",
       "      <td>0</td>\n",
       "      <td>8.674197</td>\n",
       "      <td>0.000000</td>\n",
       "      <td>4.836282</td>\n",
       "      <td>8.674026</td>\n",
       "      <td>5.886104</td>\n",
       "      <td>0</td>\n",
       "      <td>1</td>\n",
       "      <td>1</td>\n",
       "      <td>0</td>\n",
       "      <td>1</td>\n",
       "      <td>0</td>\n",
       "      <td>0.821644</td>\n",
       "      <td>7.852382</td>\n",
       "    </tr>\n",
       "    <tr>\n",
       "      <th>1</th>\n",
       "      <td>1</td>\n",
       "      <td>0</td>\n",
       "      <td>1.0</td>\n",
       "      <td>1</td>\n",
       "      <td>0</td>\n",
       "      <td>1</td>\n",
       "      <td>1</td>\n",
       "      <td>0</td>\n",
       "      <td>8.430327</td>\n",
       "      <td>7.319202</td>\n",
       "      <td>4.852030</td>\n",
       "      <td>8.714568</td>\n",
       "      <td>5.886104</td>\n",
       "      <td>0</td>\n",
       "      <td>1</td>\n",
       "      <td>0</td>\n",
       "      <td>1</td>\n",
       "      <td>1</td>\n",
       "      <td>0</td>\n",
       "      <td>0.824319</td>\n",
       "      <td>7.890248</td>\n",
       "    </tr>\n",
       "    <tr>\n",
       "      <th>2</th>\n",
       "      <td>0</td>\n",
       "      <td>0</td>\n",
       "      <td>1.0</td>\n",
       "      <td>0</td>\n",
       "      <td>1</td>\n",
       "      <td>0</td>\n",
       "      <td>0</td>\n",
       "      <td>1</td>\n",
       "      <td>8.006701</td>\n",
       "      <td>0.000000</td>\n",
       "      <td>4.189655</td>\n",
       "      <td>8.006368</td>\n",
       "      <td>5.886104</td>\n",
       "      <td>0</td>\n",
       "      <td>1</td>\n",
       "      <td>0</td>\n",
       "      <td>1</td>\n",
       "      <td>0</td>\n",
       "      <td>1</td>\n",
       "      <td>0.711787</td>\n",
       "      <td>7.294580</td>\n",
       "    </tr>\n",
       "  </tbody>\n",
       "</table>\n",
       "</div>"
      ],
      "text/plain": [
       "  Dependents  Education  Credit_History  Property_Area  ApplicantIncome_cat  \\\n",
       "0          0          0             1.0              0                    0   \n",
       "1          1          0             1.0              1                    0   \n",
       "2          0          0             1.0              0                    1   \n",
       "\n",
       "   Coapplicant_Income_cat  Total_Income_bin  LoanAmount_cat  \\\n",
       "0                       0                 0               0   \n",
       "1                       1                 1               0   \n",
       "2                       0                 0               1   \n",
       "\n",
       "   ApplicantIncome_log  CoapplicantIncome_log  LoanAmount_log  \\\n",
       "0             8.674197               0.000000        4.836282   \n",
       "1             8.430327               7.319202        4.852030   \n",
       "2             8.006701               0.000000        4.189655   \n",
       "\n",
       "   Total_Income_log  Loan_Amount_Term_log  Gender_Female  Gender_Male  \\\n",
       "0          8.674026              5.886104              0            1   \n",
       "1          8.714568              5.886104              0            1   \n",
       "2          8.006368              5.886104              0            1   \n",
       "\n",
       "   Married_No  Married_Yes  Self_Employed_No  Self_Employed_Yes   EMI_log  \\\n",
       "0           1            0                 1                  0  0.821644   \n",
       "1           0            1                 1                  0  0.824319   \n",
       "2           0            1                 0                  1  0.711787   \n",
       "\n",
       "   BalanceIncome_log  \n",
       "0           7.852382  \n",
       "1           7.890248  \n",
       "2           7.294580  "
      ]
     },
     "execution_count": 55,
     "metadata": {},
     "output_type": "execute_result"
    }
   ],
   "source": [
    "data_4.head(3)"
   ]
  },
  {
   "cell_type": "code",
   "execution_count": 56,
   "id": "ecf2c752",
   "metadata": {},
   "outputs": [],
   "source": [
    "# split the data back to get the train and test data\n",
    "data_5 = data_4.copy()\n",
    "train_data_final = data_5.loc[:train_data.index.max(),  :].copy()\n",
    "test_data_final = data_5.loc[train_data.index.max() + 1:, :].reset_index(drop = True).copy()"
   ]
  },
  {
   "cell_type": "code",
   "execution_count": 57,
   "id": "f1a065eb",
   "metadata": {},
   "outputs": [
    {
     "name": "stdout",
     "output_type": "stream",
     "text": [
      "(614, 21)\n",
      "(367, 21)\n"
     ]
    }
   ],
   "source": [
    "# print shape of final train data\n",
    "print(train_data_final.shape)\n",
    "\n",
    "# print shape of final train data\n",
    "print(test_data_final.shape)"
   ]
  },
  {
   "cell_type": "code",
   "execution_count": 58,
   "id": "593a9f92",
   "metadata": {},
   "outputs": [],
   "source": [
    "X = train_data_final.copy()\n",
    "\n",
    "# save target variable in in y\n",
    "y = target"
   ]
  },
  {
   "cell_type": "code",
   "execution_count": 59,
   "id": "a3fc82c3",
   "metadata": {},
   "outputs": [
    {
     "data": {
      "text/plain": [
       "RandomForestClassifier(random_state=1)"
      ]
     },
     "execution_count": 59,
     "metadata": {},
     "output_type": "execute_result"
    }
   ],
   "source": [
    "# baseline model\n",
    "baseline_model = RandomForestClassifier(random_state = 1)\n",
    "baseline_model.fit(X, y)"
   ]
  },
  {
   "cell_type": "code",
   "execution_count": 60,
   "id": "74c893db",
   "metadata": {},
   "outputs": [],
   "source": [
    "# store accuracy of baseline model prediction in results\n",
    "result = cross_val_score(baseline_model, X, y, cv = 20, scoring = \"accuracy\")"
   ]
  },
  {
   "cell_type": "code",
   "execution_count": 61,
   "id": "a3ddc25f",
   "metadata": {},
   "outputs": [
    {
     "name": "stdout",
     "output_type": "stream",
     "text": [
      "0.7901075268817205\n",
      "0.060052199130577605\n"
     ]
    }
   ],
   "source": [
    "# print mean and standard deviation of baseline model\n",
    "print(np.mean(result))\n",
    "print(np.std(result))"
   ]
  },
  {
   "cell_type": "code",
   "execution_count": 64,
   "id": "d5f3b50b",
   "metadata": {},
   "outputs": [
    {
     "data": {
      "text/plain": [
       "RandomForestClassifier(max_depth=5, n_estimators=21, random_state=1)"
      ]
     },
     "execution_count": 64,
     "metadata": {},
     "output_type": "execute_result"
    }
   ],
   "source": [
    "# provide range for max_depth from 1 to 20 with an interval of 2 \n",
    "# provide range for n_estimators from 1 to 200 with an interval of 20\n",
    "paramgrid = {'max_depth': list(range(1, 20, 2)), \n",
    "             'n_estimators': list(range(1, 200, 20))}\n",
    "grid_search = GridSearchCV(RandomForestClassifier(random_state = 1), paramgrid)\n",
    "\n",
    "# fit the grid search model\n",
    "grid_search.fit(X, y)\n",
    "\n",
    "# Estimating the optimized value\n",
    "grid_search.best_estimator_"
   ]
  },
  {
   "cell_type": "code",
   "execution_count": 65,
   "id": "14c8f7b7",
   "metadata": {},
   "outputs": [
    {
     "data": {
      "text/plain": [
       "RandomForestClassifier(max_depth=5, n_estimators=21, random_state=1)"
      ]
     },
     "execution_count": 65,
     "metadata": {},
     "output_type": "execute_result"
    }
   ],
   "source": [
    "# build final model with these optimized values \n",
    "model_final = RandomForestClassifier(max_depth=5, n_estimators=21, random_state=1)\n",
    "\n",
    "# fit model on X and y\n",
    "model_final.fit(X, y)"
   ]
  },
  {
   "cell_type": "code",
   "execution_count": 66,
   "id": "c50772bd",
   "metadata": {},
   "outputs": [],
   "source": [
    "# store accuracy of each final model's prediction in result\n",
    "result_final = cross_val_score(model_final, X, y, cv = 20, scoring = \"accuracy\")"
   ]
  },
  {
   "cell_type": "code",
   "execution_count": 67,
   "id": "cd4b4f7c",
   "metadata": {},
   "outputs": [
    {
     "name": "stdout",
     "output_type": "stream",
     "text": [
      "0.8064516129032258\n",
      "0.0487667305739098\n"
     ]
    }
   ],
   "source": [
    "# print mean and standard deviation of the accuracy of the final model\n",
    "\n",
    "print(np.mean(result_final))\n",
    "print(np.std(result_final))"
   ]
  },
  {
   "cell_type": "code",
   "execution_count": 68,
   "id": "b3160799",
   "metadata": {},
   "outputs": [],
   "source": [
    "# use final model to predict on the test data and store predictions in prediction \n",
    "prediction = model_final.predict(test_data_final)"
   ]
  },
  {
   "cell_type": "code",
   "execution_count": 69,
   "id": "934088f1",
   "metadata": {},
   "outputs": [
    {
     "data": {
      "text/plain": [
       "array(['Y', 'Y', 'Y', 'Y', 'Y', 'Y', 'Y', 'N', 'Y', 'Y', 'Y', 'Y', 'Y',\n",
       "       'N', 'Y', 'Y', 'Y', 'Y', 'Y', 'Y', 'Y', 'Y', 'Y', 'Y', 'Y', 'N',\n",
       "       'Y', 'Y', 'Y', 'Y', 'Y', 'Y', 'Y', 'Y', 'Y', 'N', 'Y', 'Y', 'Y',\n",
       "       'Y', 'Y', 'Y', 'Y', 'Y', 'Y', 'Y', 'Y', 'Y', 'Y', 'Y', 'Y', 'Y',\n",
       "       'Y', 'Y', 'Y', 'N', 'Y', 'Y', 'N', 'Y', 'Y', 'Y', 'Y', 'N', 'Y',\n",
       "       'Y', 'N', 'N', 'Y', 'N', 'Y', 'Y', 'Y', 'Y', 'Y', 'Y', 'Y', 'Y',\n",
       "       'Y', 'Y', 'N', 'Y', 'N', 'Y', 'N', 'Y', 'Y', 'Y', 'Y', 'Y', 'Y',\n",
       "       'Y', 'Y', 'Y', 'N', 'Y', 'Y', 'Y', 'Y', 'Y', 'Y', 'N', 'Y', 'Y',\n",
       "       'Y', 'Y', 'N', 'Y', 'Y', 'Y', 'Y', 'Y', 'Y', 'Y', 'Y', 'Y', 'Y',\n",
       "       'N', 'N', 'N', 'Y', 'Y', 'Y', 'N', 'N', 'Y', 'N', 'Y', 'Y', 'Y',\n",
       "       'Y', 'Y', 'Y', 'Y', 'Y', 'Y', 'Y', 'Y', 'Y', 'Y', 'N', 'Y', 'N',\n",
       "       'Y', 'N', 'Y', 'Y', 'N', 'Y', 'Y', 'Y', 'Y', 'Y', 'N', 'Y', 'Y',\n",
       "       'Y', 'Y', 'Y', 'Y', 'Y', 'N', 'Y', 'Y', 'Y', 'N', 'N', 'Y', 'N',\n",
       "       'Y', 'Y', 'Y', 'Y', 'N', 'N', 'Y', 'Y', 'Y', 'Y', 'Y', 'Y', 'Y',\n",
       "       'Y', 'Y', 'Y', 'Y', 'Y', 'Y', 'Y', 'Y', 'Y', 'Y', 'N', 'N', 'Y',\n",
       "       'Y', 'N', 'Y', 'N', 'Y', 'Y', 'Y', 'Y', 'Y', 'Y', 'Y', 'Y', 'Y',\n",
       "       'Y', 'Y', 'Y', 'N', 'Y', 'Y', 'Y', 'Y', 'Y', 'Y', 'Y', 'Y', 'Y',\n",
       "       'Y', 'Y', 'Y', 'N', 'Y', 'Y', 'Y', 'Y', 'N', 'Y', 'Y', 'Y', 'Y',\n",
       "       'Y', 'N', 'N', 'Y', 'Y', 'Y', 'Y', 'N', 'Y', 'N', 'Y', 'N', 'Y',\n",
       "       'Y', 'Y', 'Y', 'N', 'Y', 'Y', 'Y', 'Y', 'N', 'Y', 'Y', 'Y', 'Y',\n",
       "       'Y', 'Y', 'Y', 'Y', 'Y', 'Y', 'N', 'Y', 'N', 'Y', 'Y', 'Y', 'Y',\n",
       "       'N', 'N', 'Y', 'Y', 'Y', 'N', 'Y', 'Y', 'Y', 'Y', 'Y', 'Y', 'Y',\n",
       "       'Y', 'Y', 'Y', 'Y', 'Y', 'Y', 'Y', 'N', 'Y', 'Y', 'Y', 'Y', 'Y',\n",
       "       'Y', 'Y', 'N', 'Y', 'Y', 'Y', 'Y', 'Y', 'Y', 'Y', 'Y', 'Y', 'N',\n",
       "       'Y', 'Y', 'Y', 'Y', 'Y', 'N', 'Y', 'Y', 'Y', 'Y', 'Y', 'Y', 'Y',\n",
       "       'N', 'Y', 'Y', 'Y', 'Y', 'Y', 'Y', 'Y', 'Y', 'Y', 'Y', 'Y', 'Y',\n",
       "       'Y', 'N', 'Y', 'Y', 'Y', 'Y', 'Y', 'Y', 'N', 'Y', 'Y', 'Y', 'Y',\n",
       "       'Y', 'Y', 'Y', 'N', 'Y', 'Y', 'Y', 'Y', 'Y', 'Y', 'Y', 'Y', 'Y',\n",
       "       'Y', 'Y', 'Y'], dtype=object)"
      ]
     },
     "execution_count": 69,
     "metadata": {},
     "output_type": "execute_result"
    }
   ],
   "source": [
    "prediction"
   ]
  }
 ],
 "metadata": {
  "kernelspec": {
   "display_name": "Python 3 (ipykernel)",
   "language": "python",
   "name": "python3"
  },
  "language_info": {
   "codemirror_mode": {
    "name": "ipython",
    "version": 3
   },
   "file_extension": ".py",
   "mimetype": "text/x-python",
   "name": "python",
   "nbconvert_exporter": "python",
   "pygments_lexer": "ipython3",
   "version": "3.9.7"
  }
 },
 "nbformat": 4,
 "nbformat_minor": 5
}
